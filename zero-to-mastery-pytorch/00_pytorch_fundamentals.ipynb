{
  "nbformat": 4,
  "nbformat_minor": 0,
  "metadata": {
    "colab": {
      "provenance": [],
      "authorship_tag": "ABX9TyNB2r9Kf/3vyrf+UMhLE/5R",
      "include_colab_link": true
    },
    "kernelspec": {
      "name": "python3",
      "display_name": "Python 3"
    },
    "language_info": {
      "name": "python"
    },
    "accelerator": "GPU",
    "gpuClass": "standard"
  },
  "cells": [
    {
      "cell_type": "markdown",
      "metadata": {
        "id": "view-in-github",
        "colab_type": "text"
      },
      "source": [
        "<a href=\"https://colab.research.google.com/github/akshayavb99/pytorch-examples/blob/main/zero-to-mastery-pytorch/00_pytorch_fundamentals.ipynb\" target=\"_parent\"><img src=\"https://colab.research.google.com/assets/colab-badge.svg\" alt=\"Open In Colab\"/></a>"
      ]
    },
    {
      "cell_type": "markdown",
      "source": [
        "# 00. PyTorch Fundamentals\n",
        "## Sample codes used in the material here - https://www.learnpytorch.io/00_pytorch_fundamentals/\n"
      ],
      "metadata": {
        "id": "_0yiH28obhNK"
      }
    },
    {
      "cell_type": "markdown",
      "source": [
        "### What is PyTorch?\n",
        "\n",
        "PyTorch is an open source machine learning and deep learning framework based on the programming language Python, which allows us to design and run ML models. PyTorch allows us to work with pretrained models, and even define highly customizable deep learning models, where we can define the ML model layer by layer."
      ],
      "metadata": {
        "id": "z8EWD1_gH27t"
      }
    },
    {
      "cell_type": "code",
      "execution_count": 25,
      "metadata": {
        "colab": {
          "base_uri": "https://localhost:8080/",
          "height": 35
        },
        "id": "2vf8KOmfUC6M",
        "outputId": "8a0407e6-48ee-4679-c5d4-8772a8e59d64"
      },
      "outputs": [
        {
          "output_type": "execute_result",
          "data": {
            "text/plain": [
              "'2.0.0+cu118'"
            ],
            "application/vnd.google.colaboratory.intrinsic+json": {
              "type": "string"
            }
          },
          "metadata": {},
          "execution_count": 25
        }
      ],
      "source": [
        "#Importing relevant libraries\n",
        "import torch\n",
        "torch.__version__"
      ]
    },
    {
      "cell_type": "markdown",
      "source": [
        "### What are tensors?\n",
        "\n",
        "Tensors are the basic data structures to represent data numerically. Tensors can be scalars (0 dimensions), vectors (1 dimension), matrices (2 dimensions), or even higher dimensions.  \n",
        "\n",
        "### How can we tensors in PyTorch?\n",
        "\n",
        "We can initialise tensors in PyTorch using the `torch.Tensor` class. Ther official documentation () offers much more information about the `torch.Tensor` class, like available datatypes, associated functions, valid mathematical operations etc."
      ],
      "metadata": {
        "id": "AJ0J7OK7Htaz"
      }
    },
    {
      "cell_type": "code",
      "source": [
        "#Sample tensors\n",
        "sample_scalar = torch.tensor(5)\n",
        "sample_vector = torch.tensor([1,2])\n",
        "sample_matrix = torch.tensor([[1,2,3],\n",
        "                              [4,5,6],\n",
        "                              [7,8,9]])\n",
        "sample_tensor = torch.tensor([[[1,2,3],\n",
        "                              [4,5,6],\n",
        "                              [7,8,9]]])"
      ],
      "metadata": {
        "id": "752QQJYRJs0i"
      },
      "execution_count": 26,
      "outputs": []
    },
    {
      "cell_type": "code",
      "source": [
        "#Looking at some sample functions for tensors\n",
        "def sampleFuncs(tensorVal=None):\n",
        "  if tensorVal is None:\n",
        "    tensorVal = torch.arange(0,100,10)\n",
        "  \n",
        "  print(\"Dimensions of the tensor: \", tensorVal.ndim)\n",
        "  print(\"Shape of the tensor: \", tensorVal.shape)\n",
        "  print(\"Datetype of tensor elements: \", tensorVal.dtype)\n",
        "  print(\"Device on which tensor is stored (GPU - CUDA or CPU): \", tensorVal.device)\n",
        "  print(\"\")"
      ],
      "metadata": {
        "id": "NFsEHtCuR94p"
      },
      "execution_count": 27,
      "outputs": []
    },
    {
      "cell_type": "code",
      "source": [
        "sampleFuncs(sample_scalar)\n",
        "print()\n",
        "sampleFuncs(sample_vector)\n",
        "print()\n",
        "sampleFuncs(sample_matrix)\n",
        "print()\n",
        "sampleFuncs(sample_tensor)\n",
        "print()\n",
        "sampleFuncs()"
      ],
      "metadata": {
        "colab": {
          "base_uri": "https://localhost:8080/"
        },
        "id": "KvWYaD-xSagV",
        "outputId": "42058ed3-31fe-428a-a161-e687fcc4c773"
      },
      "execution_count": 28,
      "outputs": [
        {
          "output_type": "stream",
          "name": "stdout",
          "text": [
            "Dimensions of the tensor:  0\n",
            "Shape of the tensor:  torch.Size([])\n",
            "Datetype of tensor elements:  torch.int64\n",
            "Device on which tensor is stored (GPU - CUDA or CPU):  cpu\n",
            "\n",
            "\n",
            "Dimensions of the tensor:  1\n",
            "Shape of the tensor:  torch.Size([2])\n",
            "Datetype of tensor elements:  torch.int64\n",
            "Device on which tensor is stored (GPU - CUDA or CPU):  cpu\n",
            "\n",
            "\n",
            "Dimensions of the tensor:  2\n",
            "Shape of the tensor:  torch.Size([3, 3])\n",
            "Datetype of tensor elements:  torch.int64\n",
            "Device on which tensor is stored (GPU - CUDA or CPU):  cpu\n",
            "\n",
            "\n",
            "Dimensions of the tensor:  3\n",
            "Shape of the tensor:  torch.Size([1, 3, 3])\n",
            "Datetype of tensor elements:  torch.int64\n",
            "Device on which tensor is stored (GPU - CUDA or CPU):  cpu\n",
            "\n",
            "\n",
            "Dimensions of the tensor:  1\n",
            "Shape of the tensor:  torch.Size([10])\n",
            "Datetype of tensor elements:  torch.int64\n",
            "Device on which tensor is stored (GPU - CUDA or CPU):  cpu\n",
            "\n"
          ]
        }
      ]
    },
    {
      "cell_type": "code",
      "source": [
        "def specialTensors():\n",
        "  print(\"Random tensor: \", torch.rand(size=(3,4)))\n",
        "  print()\n",
        "  print(\"Zero tensor: \", torch.zeros(size=(3,4)))\n",
        "  print()\n",
        "  print(\"Ones tensor: \", torch.ones(size=(3,4)))\n",
        "  print()\n",
        "  print(\"Range of values: \", torch.arange(0,100,10))\n",
        "  print()\n",
        "  print(\"\")\n",
        "\n",
        "specialTensors()"
      ],
      "metadata": {
        "colab": {
          "base_uri": "https://localhost:8080/"
        },
        "id": "wcKSEORLUwuE",
        "outputId": "2ad9cf01-b392-4a5d-de2d-571c1fbc4554"
      },
      "execution_count": 29,
      "outputs": [
        {
          "output_type": "stream",
          "name": "stdout",
          "text": [
            "Random tensor:  tensor([[0.8694, 0.5677, 0.7411, 0.4294],\n",
            "        [0.8854, 0.5739, 0.2666, 0.6274],\n",
            "        [0.2696, 0.4414, 0.2969, 0.8317]])\n",
            "\n",
            "Zero tensor:  tensor([[0., 0., 0., 0.],\n",
            "        [0., 0., 0., 0.],\n",
            "        [0., 0., 0., 0.]])\n",
            "\n",
            "Ones tensor:  tensor([[1., 1., 1., 1.],\n",
            "        [1., 1., 1., 1.],\n",
            "        [1., 1., 1., 1.]])\n",
            "\n",
            "Range of values:  tensor([ 0, 10, 20, 30, 40, 50, 60, 70, 80, 90])\n",
            "\n",
            "\n"
          ]
        }
      ]
    },
    {
      "cell_type": "code",
      "source": [
        "def mathOperations(a,b):\n",
        "  print(\"Sample tensors a,b: \", a,b)\n",
        "  print(\"Adding 2 tensors: \", (a+b))\n",
        "  print(\"Adding 2 tensors: \", torch.add(a,b))\n",
        "  print(\"Subtracting 2 tensors: \", (a-b))\n",
        "  print(\"Subtracting 2 tensors: \", torch.add(a,-b))\n",
        "  print(\"Multiply tensors elementwise: \", (a*b))\n",
        "  print(\"Multiply tensors elementwise: \", torch.multiply(a,b))\n",
        "  print(\"Matrix multiplication: \", torch.matmul(a,b))\n",
        "  print(\"Matrix multiplication: \", a @ b)\n",
        "  print(\" \")\n",
        "  print(\"Sample tensor: \", a)\n",
        "  print(\"Minimum of tensor: \", a.min())\n",
        "  print(\"Minimum of tensor elements: \", torch.min(a))\n",
        "  print(\"Maximum of tensor: \", a.max())\n",
        "  print(\"Maximum of tensor elements: \", torch.max(a))\n",
        "  print(\"Sum of tensor elements: \", a.sum())\n",
        "  print(\"Sum of tensor elements: \", torch.sum(a))\n",
        "  print(\"Mean of tensor elements: \", torch.mean(a.type(torch.float32)))\n",
        "  print(\"Mean of tensor elements: \", a.type(torch.float32).mean())\n",
        "  print()\n",
        "  print(\"Sample tensor: \", a)\n",
        "  print(\"Index of max value in tensor: \", a.argmax())\n",
        "  print(\"Index of min value in tensor: \", a.argmin())\n",
        "  print()"
      ],
      "metadata": {
        "id": "DT07kMuzWpJ-"
      },
      "execution_count": 30,
      "outputs": []
    },
    {
      "cell_type": "code",
      "source": [
        "mathOperations(torch.tensor([1,2,3]), torch.tensor([1,2,3]))"
      ],
      "metadata": {
        "colab": {
          "base_uri": "https://localhost:8080/"
        },
        "id": "extQM5B6Zk87",
        "outputId": "74a41485-2a3c-4104-d8d4-47b7a55537ed"
      },
      "execution_count": 31,
      "outputs": [
        {
          "output_type": "stream",
          "name": "stdout",
          "text": [
            "Sample tensors a,b:  tensor([1, 2, 3]) tensor([1, 2, 3])\n",
            "Adding 2 tensors:  tensor([2, 4, 6])\n",
            "Adding 2 tensors:  tensor([2, 4, 6])\n",
            "Subtracting 2 tensors:  tensor([0, 0, 0])\n",
            "Subtracting 2 tensors:  tensor([0, 0, 0])\n",
            "Multiply tensors elementwise:  tensor([1, 4, 9])\n",
            "Multiply tensors elementwise:  tensor([1, 4, 9])\n",
            "Matrix multiplication:  tensor(14)\n",
            "Matrix multiplication:  tensor(14)\n",
            " \n",
            "Sample tensor:  tensor([1, 2, 3])\n",
            "Minimum of tensor:  tensor(1)\n",
            "Minimum of tensor elements:  tensor(1)\n",
            "Maximum of tensor:  tensor(3)\n",
            "Maximum of tensor elements:  tensor(3)\n",
            "Sum of tensor elements:  tensor(6)\n",
            "Sum of tensor elements:  tensor(6)\n",
            "Mean of tensor elements:  tensor(2.)\n",
            "Mean of tensor elements:  tensor(2.)\n",
            "\n",
            "Sample tensor:  tensor([1, 2, 3])\n",
            "Index of max value in tensor:  tensor(2)\n",
            "Index of min value in tensor:  tensor(0)\n",
            "\n"
          ]
        }
      ]
    },
    {
      "cell_type": "code",
      "source": [
        "def testStacking():\n",
        "\n",
        "  x = torch.tensor([[1,2],\n",
        "                  [3,4],\n",
        "                  [5,6]])\n",
        "  x_stacked = torch.stack([x+5,x+10,x+15,x+20], dim=0)\n",
        "  print(\"Stacking along dim=0: \\n\", x_stacked)\n",
        "  print()\n",
        "  x_stacked = torch.stack([x+5,x+10,x+15,x+20], dim=1)\n",
        "  print(\"Stacking along dim=1: \\n\", x_stacked)\n",
        "  print()\n",
        "  x_stacked = torch.stack([x,x+5,x+10,x+15], dim=2)\n",
        "  print(\"Stacking along dim=2: \\n\", x_stacked)\n",
        "  print()"
      ],
      "metadata": {
        "id": "yvB6eckagCV_"
      },
      "execution_count": 32,
      "outputs": []
    },
    {
      "cell_type": "code",
      "source": [
        "testStacking()"
      ],
      "metadata": {
        "colab": {
          "base_uri": "https://localhost:8080/"
        },
        "id": "62Jg_tZ0i7Ex",
        "outputId": "5e2a47d6-14c6-4831-f084-e0c57a4a0b10"
      },
      "execution_count": 33,
      "outputs": [
        {
          "output_type": "stream",
          "name": "stdout",
          "text": [
            "Stacking along dim=0: \n",
            " tensor([[[ 6,  7],\n",
            "         [ 8,  9],\n",
            "         [10, 11]],\n",
            "\n",
            "        [[11, 12],\n",
            "         [13, 14],\n",
            "         [15, 16]],\n",
            "\n",
            "        [[16, 17],\n",
            "         [18, 19],\n",
            "         [20, 21]],\n",
            "\n",
            "        [[21, 22],\n",
            "         [23, 24],\n",
            "         [25, 26]]])\n",
            "\n",
            "Stacking along dim=1: \n",
            " tensor([[[ 6,  7],\n",
            "         [11, 12],\n",
            "         [16, 17],\n",
            "         [21, 22]],\n",
            "\n",
            "        [[ 8,  9],\n",
            "         [13, 14],\n",
            "         [18, 19],\n",
            "         [23, 24]],\n",
            "\n",
            "        [[10, 11],\n",
            "         [15, 16],\n",
            "         [20, 21],\n",
            "         [25, 26]]])\n",
            "\n",
            "Stacking along dim=2: \n",
            " tensor([[[ 1,  6, 11, 16],\n",
            "         [ 2,  7, 12, 17]],\n",
            "\n",
            "        [[ 3,  8, 13, 18],\n",
            "         [ 4,  9, 14, 19]],\n",
            "\n",
            "        [[ 5, 10, 15, 20],\n",
            "         [ 6, 11, 16, 21]]])\n",
            "\n"
          ]
        }
      ]
    },
    {
      "cell_type": "markdown",
      "source": [
        "### Additional source to understand how torch.stack works similar to numpy.hstack and numpy.vstack - https://stackoverflow.com/questions/69220221/use-of-torch-stack"
      ],
      "metadata": {
        "id": "toPNR34rtKc-"
      }
    },
    {
      "cell_type": "code",
      "source": [
        "#Changing tensor across different dimensions\n",
        "\n",
        "def changeDims(x=None):\n",
        "  if x is None:\n",
        "    x = torch.tensor([[[1,2,3],\n",
        "                       [4,5,6],\n",
        "                       [7,8,9]]])\n",
        "  print(\"Original tensor: \\n\", x)\n",
        "  print()\n",
        "\n",
        "  print(\"Indexing tensors\\n\")\n",
        "  print(x[0])\n",
        "  print(x[0][0])\n",
        "  print(x[0][0][0])\n",
        "  print()\n",
        "\n",
        "  print(\"Reshape original tensor to desired shape\\n\")\n",
        "  print(\"Reshaped tensor\\n\")\n",
        "  x = torch.reshape(x,(1,1,9))\n",
        "  print(x)\n",
        "  #Reverting to original shape\n",
        "  x = torch.reshape(x,(1,3,3))\n",
        "  print()\n",
        "\n",
        "  print(\"Changing the shape of the view of the tensor\\n\")\n",
        "  print(\"View of tensor with new shape\\n\")\n",
        "  print(x.view((1,1,9)))\n",
        "  print()\n",
        "\n",
        "  print(\"Removing dimensions (equal to 1) from a tensor\\n\")\n",
        "  print(x.shape)\n",
        "  print(x.reshape((1,1,9)).shape)\n",
        "  print(x.reshape((1,1,9)).squeeze().shape)\n",
        "  print()\n",
        "\n",
        "  print(\"Adding dimensions (equal to 1) to a tensor\\n\")\n",
        "  print(x.shape)\n",
        "  print(x.reshape((1,1,9)).shape)\n",
        "  print(x.reshape((1,1,9)).unsqueeze(dim=0).shape)\n",
        "  print(x.reshape((1,1,9)).unsqueeze(dim=1).shape)\n",
        "  print(x.reshape((1,1,9)).unsqueeze(dim=2).shape)\n",
        "  print(x.reshape((1,1,9)).unsqueeze(dim=3).shape)\n",
        "  print()\n",
        "\n",
        "  print(\"Permutating elements of tensor\\n\")\n",
        "  y = x.clone()\n",
        "  print(y.permute(2, 0, 1)) # shifts axis 0->1, 1->2, 2->0\n",
        "  print()"
      ],
      "metadata": {
        "id": "GI_yGHGCf5p7"
      },
      "execution_count": 34,
      "outputs": []
    },
    {
      "cell_type": "code",
      "source": [
        "changeDims()"
      ],
      "metadata": {
        "colab": {
          "base_uri": "https://localhost:8080/"
        },
        "id": "1sy182YhksV9",
        "outputId": "438a7856-249a-4bcf-c2ad-3c39b7fd13fb"
      },
      "execution_count": 35,
      "outputs": [
        {
          "output_type": "stream",
          "name": "stdout",
          "text": [
            "Original tensor: \n",
            " tensor([[[1, 2, 3],\n",
            "         [4, 5, 6],\n",
            "         [7, 8, 9]]])\n",
            "\n",
            "Indexing tensors\n",
            "\n",
            "tensor([[1, 2, 3],\n",
            "        [4, 5, 6],\n",
            "        [7, 8, 9]])\n",
            "tensor([1, 2, 3])\n",
            "tensor(1)\n",
            "\n",
            "Reshape original tensor to desired shape\n",
            "\n",
            "Reshaped tensor\n",
            "\n",
            "tensor([[[1, 2, 3, 4, 5, 6, 7, 8, 9]]])\n",
            "\n",
            "Changing the shape of the view of the tensor\n",
            "\n",
            "View of tensor with new shape\n",
            "\n",
            "tensor([[[1, 2, 3, 4, 5, 6, 7, 8, 9]]])\n",
            "\n",
            "Removing dimensions (equal to 1) from a tensor\n",
            "\n",
            "torch.Size([1, 3, 3])\n",
            "torch.Size([1, 1, 9])\n",
            "torch.Size([9])\n",
            "\n",
            "Adding dimensions (equal to 1) to a tensor\n",
            "\n",
            "torch.Size([1, 3, 3])\n",
            "torch.Size([1, 1, 9])\n",
            "torch.Size([1, 1, 1, 9])\n",
            "torch.Size([1, 1, 1, 9])\n",
            "torch.Size([1, 1, 1, 9])\n",
            "torch.Size([1, 1, 9, 1])\n",
            "\n",
            "Permutating elements of tensor\n",
            "\n",
            "tensor([[[1, 4, 7]],\n",
            "\n",
            "        [[2, 5, 8]],\n",
            "\n",
            "        [[3, 6, 9]]])\n",
            "\n"
          ]
        }
      ]
    },
    {
      "cell_type": "markdown",
      "source": [
        "### Some additional information about torch.view and torch.reshape - https://stackoverflow.com/questions/49643225/whats-the-difference-between-reshape-and-view-in-pytorch"
      ],
      "metadata": {
        "id": "RqmKIIdohjUt"
      }
    },
    {
      "cell_type": "code",
      "source": [
        "def testingGPUConnect():\n",
        "  print(torch.cuda.is_available())\n",
        "  gpuDevice = 'cuda' if torch.cuda.is_available() else 'cpu'\n",
        "  print(gpuDevice)\n",
        "  print()\n",
        "\n",
        "  #Counting number of GPUs accessible\n",
        "  print(\"Number of available GPUs = \", torch.cuda.device_count())"
      ],
      "metadata": {
        "id": "ZX4g8-f8hnkX"
      },
      "execution_count": 36,
      "outputs": []
    },
    {
      "cell_type": "code",
      "source": [
        "testingGPUConnect()"
      ],
      "metadata": {
        "id": "ff7eeQBF0o4y",
        "outputId": "4d535f03-b810-4c66-dc11-da581a4efcee",
        "colab": {
          "base_uri": "https://localhost:8080/"
        }
      },
      "execution_count": 37,
      "outputs": [
        {
          "output_type": "stream",
          "name": "stdout",
          "text": [
            "True\n",
            "cuda\n",
            "\n",
            "Number of available GPUs =  1\n"
          ]
        }
      ]
    },
    {
      "cell_type": "code",
      "source": [
        "def tensorsOnGPU():\n",
        "  tensor = torch.tensor([1,2,3])\n",
        "  print(tensor, tensor.device)\n",
        "\n",
        "  gpuDevice = 'cuda' if torch.cuda.is_available() else 'cpu'\n",
        "  tensor = tensor.to(gpuDevice)\n",
        "  print(tensor, tensor.device)\n",
        "\n",
        "  tensor = tensor.cpu()\n",
        "  print(tensor, tensor.device)"
      ],
      "metadata": {
        "id": "GC1sUIZF0rE4"
      },
      "execution_count": 38,
      "outputs": []
    },
    {
      "cell_type": "code",
      "source": [
        "tensorsOnGPU()"
      ],
      "metadata": {
        "id": "JL8k-RDJ1s2k",
        "outputId": "c264da13-08ff-420c-c9e9-8320dfb74e14",
        "colab": {
          "base_uri": "https://localhost:8080/"
        }
      },
      "execution_count": 39,
      "outputs": [
        {
          "output_type": "stream",
          "name": "stdout",
          "text": [
            "tensor([1, 2, 3]) cpu\n",
            "tensor([1, 2, 3], device='cuda:0') cuda:0\n",
            "tensor([1, 2, 3]) cpu\n"
          ]
        }
      ]
    },
    {
      "cell_type": "markdown",
      "source": [
        "### Exercise Solutions\n",
        "\n",
        "#### Exercise template: https://github.com/mrdbourke/pytorch-deep-learning/blob/main/extras/exercises/00_pytorch_fundamentals_exercises.ipynb\n",
        "\n"
      ],
      "metadata": {
        "id": "_2wp9DO92I6C"
      }
    },
    {
      "cell_type": "markdown",
      "source": [
        "1. Documentation reading on <br>\n",
        "  a. torch.Tensor <br>\n",
        "  b. torch.cuda\n"
      ],
      "metadata": {
        "id": "_-YVlFGR2TpB"
      }
    },
    {
      "cell_type": "markdown",
      "source": [
        "2. Create a random tensor with shape (7,7)"
      ],
      "metadata": {
        "id": "vvg2pTVb_kWv"
      }
    },
    {
      "cell_type": "code",
      "source": [
        "second = torch.rand((7,7))\n",
        "second"
      ],
      "metadata": {
        "id": "MWfl0_o21ugK",
        "outputId": "b1f1b41f-1699-4391-b097-0818434c597c",
        "colab": {
          "base_uri": "https://localhost:8080/"
        }
      },
      "execution_count": 40,
      "outputs": [
        {
          "output_type": "execute_result",
          "data": {
            "text/plain": [
              "tensor([[0.1053, 0.2695, 0.3588, 0.1994, 0.5472, 0.0062, 0.9516],\n",
              "        [0.0753, 0.8860, 0.5832, 0.3376, 0.8090, 0.5779, 0.9040],\n",
              "        [0.5547, 0.3423, 0.6343, 0.3644, 0.7104, 0.9464, 0.7890],\n",
              "        [0.2814, 0.7886, 0.5895, 0.7539, 0.1952, 0.0050, 0.3068],\n",
              "        [0.1165, 0.9103, 0.6440, 0.7071, 0.6581, 0.4913, 0.8913],\n",
              "        [0.1447, 0.5315, 0.1587, 0.6542, 0.3278, 0.6532, 0.3958],\n",
              "        [0.9147, 0.2036, 0.2018, 0.2018, 0.9497, 0.6666, 0.9811]])"
            ]
          },
          "metadata": {},
          "execution_count": 40
        }
      ]
    },
    {
      "cell_type": "markdown",
      "source": [
        "3. Perform a matrix multiplication on the tensor from 2 with another random tensor with shape (1, 7)"
      ],
      "metadata": {
        "id": "tT9iTO6t_vHn"
      }
    },
    {
      "cell_type": "code",
      "source": [
        "third = torch.rand((1,7))\n",
        "multTensor = torch.matmul(second,third.T)\n",
        "multTensor"
      ],
      "metadata": {
        "id": "YbkwNZOx_sOp",
        "outputId": "3d2b7d05-995c-4401-f17d-a4579094013b",
        "colab": {
          "base_uri": "https://localhost:8080/"
        }
      },
      "execution_count": 41,
      "outputs": [
        {
          "output_type": "execute_result",
          "data": {
            "text/plain": [
              "tensor([[1.3417],\n",
              "        [1.9172],\n",
              "        [2.0426],\n",
              "        [0.6368],\n",
              "        [1.8116],\n",
              "        [1.1753],\n",
              "        [2.1538]])"
            ]
          },
          "metadata": {},
          "execution_count": 41
        }
      ]
    },
    {
      "cell_type": "markdown",
      "source": [
        "4. Set the random seed to 0 and do 2 & 3 over again."
      ],
      "metadata": {
        "id": "yUqPgfHrACiv"
      }
    },
    {
      "cell_type": "code",
      "source": [
        "torch.manual_seed(0)\n",
        "third = torch.rand((1,7))\n",
        "multTensor = torch.matmul(second,third.T)\n",
        "multTensor"
      ],
      "metadata": {
        "id": "hFi0jech_-nW",
        "outputId": "1e3352e9-1b24-440f-bbdc-56e144645170",
        "colab": {
          "base_uri": "https://localhost:8080/"
        }
      },
      "execution_count": 42,
      "outputs": [
        {
          "output_type": "execute_result",
          "data": {
            "text/plain": [
              "tensor([[0.9558],\n",
              "        [1.8724],\n",
              "        [1.8477],\n",
              "        [1.1108],\n",
              "        [1.8581],\n",
              "        [1.2895],\n",
              "        [1.8504]])"
            ]
          },
          "metadata": {},
          "execution_count": 42
        }
      ]
    },
    {
      "cell_type": "markdown",
      "source": [
        "6. Create two random tensors of shape (2, 3) and send them both to the GPU (you'll need access to a GPU for this). Set torch.manual_seed(1234) when creating the tensors (this doesn't have to be the GPU random seed)"
      ],
      "metadata": {
        "id": "MQxUrkO9AmB7"
      }
    },
    {
      "cell_type": "code",
      "source": [
        "torch.manual_seed(42)\n",
        "if torch.cuda.is_available():\n",
        "  torch.cuda.manual_seed(1234)\n",
        "  device = 'cuda'\n",
        "else:\n",
        "  device = 'cpu'\n",
        "tensor_1 = torch.rand((2,3)).to(device)\n",
        "tensor_2 = torch.rand((2,3)).to(device)\n",
        "print(tensor_1)\n",
        "print(tensor_2)"
      ],
      "metadata": {
        "id": "OXDqkoDxAOqZ",
        "outputId": "6a677a99-a6cf-42d4-d515-8b8848ae988e",
        "colab": {
          "base_uri": "https://localhost:8080/"
        }
      },
      "execution_count": 46,
      "outputs": [
        {
          "output_type": "stream",
          "name": "stdout",
          "text": [
            "tensor([[0.8823, 0.9150, 0.3829],\n",
            "        [0.9593, 0.3904, 0.6009]], device='cuda:0')\n",
            "tensor([[0.2566, 0.7936, 0.9408],\n",
            "        [0.1332, 0.9346, 0.5936]], device='cuda:0')\n"
          ]
        }
      ]
    },
    {
      "cell_type": "markdown",
      "source": [
        "7. Perform a matrix multiplication on the tensors you created in 6"
      ],
      "metadata": {
        "id": "0HG56pnREypO"
      }
    },
    {
      "cell_type": "code",
      "source": [
        "seven = torch.matmul(tensor_1,tensor_2.T)\n",
        "seven, seven.shape"
      ],
      "metadata": {
        "id": "LRpsPHFiCeiM",
        "outputId": "4d5c46f2-feec-488f-83ea-2b4465a47f5b",
        "colab": {
          "base_uri": "https://localhost:8080/"
        }
      },
      "execution_count": 48,
      "outputs": [
        {
          "output_type": "execute_result",
          "data": {
            "text/plain": [
              "(tensor([[1.3127, 1.1999],\n",
              "         [1.1213, 0.8494]], device='cuda:0'),\n",
              " torch.Size([2, 2]))"
            ]
          },
          "metadata": {},
          "execution_count": 48
        }
      ]
    },
    {
      "cell_type": "markdown",
      "source": [
        "8. Find the maximum and minimum values of the output of 7."
      ],
      "metadata": {
        "id": "Su76hy_ZFLnN"
      }
    },
    {
      "cell_type": "code",
      "source": [
        "seven.max(), seven.min()"
      ],
      "metadata": {
        "id": "KstEVh7NE4b-",
        "outputId": "910ddd0b-8ad5-4c2a-a616-212fe76b68be",
        "colab": {
          "base_uri": "https://localhost:8080/"
        }
      },
      "execution_count": 49,
      "outputs": [
        {
          "output_type": "execute_result",
          "data": {
            "text/plain": [
              "(tensor(1.3127, device='cuda:0'), tensor(0.8494, device='cuda:0'))"
            ]
          },
          "metadata": {},
          "execution_count": 49
        }
      ]
    },
    {
      "cell_type": "markdown",
      "source": [
        "9. Find the maximum and minimum index values of the output of 7."
      ],
      "metadata": {
        "id": "jHl1vIB_FN8g"
      }
    },
    {
      "cell_type": "code",
      "source": [
        "torch.argmax(seven), torch.argmin(seven)"
      ],
      "metadata": {
        "id": "PJnpfAnJFFoD",
        "outputId": "bae9e88f-8a8d-4b73-a46b-a74c63f5c916",
        "colab": {
          "base_uri": "https://localhost:8080/"
        }
      },
      "execution_count": 50,
      "outputs": [
        {
          "output_type": "execute_result",
          "data": {
            "text/plain": [
              "(tensor(0, device='cuda:0'), tensor(3, device='cuda:0'))"
            ]
          },
          "metadata": {},
          "execution_count": 50
        }
      ]
    },
    {
      "cell_type": "markdown",
      "source": [
        "10. Make a random tensor with shape (1, 1, 1, 10) and then create a new tensor with all the 1 dimensions removed to be left with a tensor of shape (10). Set the seed to 7 when you create it and print out the first tensor and it's shape as well as the second tensor and it's shape."
      ],
      "metadata": {
        "id": "CViHtO-rFPwL"
      }
    },
    {
      "cell_type": "code",
      "source": [
        "torch.manual_seed(7)\n",
        "tensor_1 = torch.rand((1,1,1,10))\n",
        "tensor_2 = torch.squeeze(torch.squeeze(torch.squeeze(tensor_1)))\n",
        "print(tensor_1, tensor_1.shape)\n",
        "print()\n",
        "print(tensor_2, tensor_2.shape)"
      ],
      "metadata": {
        "id": "EFZ54UTxFJsN",
        "outputId": "8855f200-48cc-41ab-bd28-3caa8816c315",
        "colab": {
          "base_uri": "https://localhost:8080/"
        }
      },
      "execution_count": 52,
      "outputs": [
        {
          "output_type": "stream",
          "name": "stdout",
          "text": [
            "tensor([[[[0.5349, 0.1988, 0.6592, 0.6569, 0.2328, 0.4251, 0.2071, 0.6297,\n",
            "           0.3653, 0.8513]]]]) torch.Size([1, 1, 1, 10])\n",
            "\n",
            "tensor([0.5349, 0.1988, 0.6592, 0.6569, 0.2328, 0.4251, 0.2071, 0.6297, 0.3653,\n",
            "        0.8513]) torch.Size([10])\n"
          ]
        }
      ]
    },
    {
      "cell_type": "code",
      "source": [],
      "metadata": {
        "id": "KAH1WXZjFdZv"
      },
      "execution_count": null,
      "outputs": []
    }
  ]
}