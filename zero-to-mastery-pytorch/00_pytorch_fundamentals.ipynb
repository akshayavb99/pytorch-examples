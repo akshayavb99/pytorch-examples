{
  "nbformat": 4,
  "nbformat_minor": 0,
  "metadata": {
    "colab": {
      "provenance": [],
      "authorship_tag": "ABX9TyOXkGjxv7/GQwFcd6V+u0Ec",
      "include_colab_link": true
    },
    "kernelspec": {
      "name": "python3",
      "display_name": "Python 3"
    },
    "language_info": {
      "name": "python"
    }
  },
  "cells": [
    {
      "cell_type": "markdown",
      "metadata": {
        "id": "view-in-github",
        "colab_type": "text"
      },
      "source": [
        "<a href=\"https://colab.research.google.com/github/akshayavb99/pytorch-examples/blob/main/zero-to-mastery-pytorch/00_pytorch_fundamentals.ipynb\" target=\"_parent\"><img src=\"https://colab.research.google.com/assets/colab-badge.svg\" alt=\"Open In Colab\"/></a>"
      ]
    },
    {
      "cell_type": "markdown",
      "source": [
        "# 00. PyTorch Fundamentals\n",
        "## Sample codes used in the material here - https://www.learnpytorch.io/00_pytorch_fundamentals/\n"
      ],
      "metadata": {
        "id": "_0yiH28obhNK"
      }
    },
    {
      "cell_type": "markdown",
      "source": [
        "### What is PyTorch?\n",
        "\n",
        "PyTorch is an open source machine learning and deep learning framework based on the programming language Python, which allows us to design and run ML models. PyTorch allows us to work with pretrained models, and even define highly customizable deep learning models, where we can define the ML model layer by layer."
      ],
      "metadata": {
        "id": "z8EWD1_gH27t"
      }
    },
    {
      "cell_type": "code",
      "execution_count": null,
      "metadata": {
        "colab": {
          "base_uri": "https://localhost:8080/",
          "height": 35
        },
        "id": "2vf8KOmfUC6M",
        "outputId": "ddd0cc0a-e726-4df7-d59f-93f2a3ab30dd"
      },
      "outputs": [
        {
          "output_type": "execute_result",
          "data": {
            "text/plain": [
              "'2.0.0+cu118'"
            ],
            "application/vnd.google.colaboratory.intrinsic+json": {
              "type": "string"
            }
          },
          "metadata": {},
          "execution_count": 2
        }
      ],
      "source": [
        "#Importing relevant libraries\n",
        "import torch\n",
        "torch.__version__"
      ]
    },
    {
      "cell_type": "markdown",
      "source": [
        "### What are tensors?\n",
        "\n",
        "Tensors are the basic data structures to represent data numerically. Tensors can be scalars (0 dimensions), vectors (1 dimension), matrices (2 dimensions), or even higher dimensions.  \n",
        "\n",
        "### How can we tensors in PyTorch?\n",
        "\n",
        "We can initialise tensors in PyTorch using the `torch.Tensor` class. Ther official documentation () offers much more information about the `torch.Tensor` class, like available datatypes, associated functions, valid mathematical operations etc."
      ],
      "metadata": {
        "id": "AJ0J7OK7Htaz"
      }
    },
    {
      "cell_type": "code",
      "source": [
        "#Sample tensors\n",
        "sample_scalar = torch.tensor(5)\n",
        "sample_vector = torch.tensor([1,2])\n",
        "sample_matrix = torch.tensor([[1,2,3],\n",
        "                              [4,5,6],\n",
        "                              [7,8,9]])\n",
        "sample_tensor = torch.tensor([[[1,2,3],\n",
        "                              [4,5,6],\n",
        "                              [7,8,9]]])"
      ],
      "metadata": {
        "id": "752QQJYRJs0i"
      },
      "execution_count": null,
      "outputs": []
    },
    {
      "cell_type": "code",
      "source": [
        "#Looking at some sample functions for tensors\n",
        "def sampleFuncs(tensorVal=None):\n",
        "  if tensorVal is None:\n",
        "    tensorVal = torch.arange(0,100,10)\n",
        "  \n",
        "  print(\"Dimensions of the tensor: \", tensorVal.ndim)\n",
        "  print(\"Shape of the tensor: \", tensorVal.shape)\n",
        "  print(\"Datetype of tensor elements: \", tensorVal.dtype)\n",
        "  print(\"Device on which tensor is stored (GPU - CUDA or CPU): \", tensorVal.device)\n",
        "  print(\"\")"
      ],
      "metadata": {
        "id": "NFsEHtCuR94p"
      },
      "execution_count": null,
      "outputs": []
    },
    {
      "cell_type": "code",
      "source": [
        "sampleFuncs(sample_scalar)\n",
        "print()\n",
        "sampleFuncs(sample_vector)\n",
        "print()\n",
        "sampleFuncs(sample_matrix)\n",
        "print()\n",
        "sampleFuncs(sample_tensor)\n",
        "print()\n",
        "sampleFuncs()"
      ],
      "metadata": {
        "colab": {
          "base_uri": "https://localhost:8080/"
        },
        "id": "KvWYaD-xSagV",
        "outputId": "97b96eeb-6332-4136-a90e-ab7117644233"
      },
      "execution_count": null,
      "outputs": [
        {
          "output_type": "stream",
          "name": "stdout",
          "text": [
            "Dimensions of the tensor:  0\n",
            "Shape of the tensor:  torch.Size([])\n",
            "Datetype of tensor elements:  torch.int64\n",
            "Device on which tensor is stored (GPU - CUDA or CPU):  cpu\n",
            "\n",
            "\n",
            "Dimensions of the tensor:  1\n",
            "Shape of the tensor:  torch.Size([2])\n",
            "Datetype of tensor elements:  torch.int64\n",
            "Device on which tensor is stored (GPU - CUDA or CPU):  cpu\n",
            "\n",
            "\n",
            "Dimensions of the tensor:  2\n",
            "Shape of the tensor:  torch.Size([3, 3])\n",
            "Datetype of tensor elements:  torch.int64\n",
            "Device on which tensor is stored (GPU - CUDA or CPU):  cpu\n",
            "\n",
            "\n",
            "Dimensions of the tensor:  3\n",
            "Shape of the tensor:  torch.Size([1, 3, 3])\n",
            "Datetype of tensor elements:  torch.int64\n",
            "Device on which tensor is stored (GPU - CUDA or CPU):  cpu\n",
            "\n",
            "\n",
            "Dimensions of the tensor:  1\n",
            "Shape of the tensor:  torch.Size([10])\n",
            "Datetype of tensor elements:  torch.int64\n",
            "Device on which tensor is stored (GPU - CUDA or CPU):  cpu\n",
            "\n"
          ]
        }
      ]
    },
    {
      "cell_type": "code",
      "source": [
        "def specialTensors():\n",
        "  print(\"Random tensor: \", torch.rand(size=(3,4)))\n",
        "  print()\n",
        "  print(\"Zero tensor: \", torch.zeros(size=(3,4)))\n",
        "  print()\n",
        "  print(\"Ones tensor: \", torch.ones(size=(3,4)))\n",
        "  print()\n",
        "  print(\"Range of values: \", torch.arange(0,100,10))\n",
        "  print()\n",
        "  print(\"\")\n",
        "\n",
        "specialTensors()"
      ],
      "metadata": {
        "colab": {
          "base_uri": "https://localhost:8080/"
        },
        "id": "wcKSEORLUwuE",
        "outputId": "d7320aa7-f3e2-4c3f-cccf-d3dcf2456bd7"
      },
      "execution_count": null,
      "outputs": [
        {
          "output_type": "stream",
          "name": "stdout",
          "text": [
            "Random tensor:  tensor([[0.0341, 0.0357, 0.6963, 0.8290],\n",
            "        [0.6491, 0.4398, 0.0079, 0.2168],\n",
            "        [0.6421, 0.9256, 0.8714, 0.3758]])\n",
            "\n",
            "Zero tensor:  tensor([[0., 0., 0., 0.],\n",
            "        [0., 0., 0., 0.],\n",
            "        [0., 0., 0., 0.]])\n",
            "\n",
            "Ones tensor:  tensor([[1., 1., 1., 1.],\n",
            "        [1., 1., 1., 1.],\n",
            "        [1., 1., 1., 1.]])\n",
            "\n",
            "Range of values:  tensor([ 0, 10, 20, 30, 40, 50, 60, 70, 80, 90])\n",
            "\n",
            "\n"
          ]
        }
      ]
    },
    {
      "cell_type": "code",
      "source": [
        "def mathOperations(a,b):\n",
        "  print(\"Sample tensors a,b: \", a,b)\n",
        "  print(\"Adding 2 tensors: \", (a+b))\n",
        "  print(\"Adding 2 tensors: \", torch.add(a,b))\n",
        "  print(\"Subtracting 2 tensors: \", (a-b))\n",
        "  print(\"Subtracting 2 tensors: \", torch.add(a,-b))\n",
        "  print(\"Multiply tensors elementwise: \", (a*b))\n",
        "  print(\"Multiply tensors elementwise: \", torch.multiply(a,b))\n",
        "  print(\"Matrix multiplication: \", torch.matmul(a,b))\n",
        "  print(\"Matrix multiplication: \", a @ b)\n",
        "  print(\" \")\n",
        "  print(\"Sample tensor: \", a)\n",
        "  print(\"Minimum of tensor: \", a.min())\n",
        "  print(\"Minimum of tensor elements: \", torch.min(a))\n",
        "  print(\"Maximum of tensor: \", a.max())\n",
        "  print(\"Maximum of tensor elements: \", torch.max(a))\n",
        "  print(\"Sum of tensor elements: \", a.sum())\n",
        "  print(\"Sum of tensor elements: \", torch.sum(a))\n",
        "  print(\"Mean of tensor elements: \", torch.mean(a.type(torch.float32)))\n",
        "  print(\"Mean of tensor elements: \", a.type(torch.float32).mean())\n",
        "  print()\n",
        "  print(\"Sample tensor: \", a)\n",
        "  print(\"Index of max value in tensor: \", a.argmax())\n",
        "  print(\"Index of min value in tensor: \", a.argmin())\n",
        "  print()"
      ],
      "metadata": {
        "id": "DT07kMuzWpJ-"
      },
      "execution_count": null,
      "outputs": []
    },
    {
      "cell_type": "code",
      "source": [
        "mathOperations(torch.tensor([1,2,3]), torch.tensor([1,2,3]))"
      ],
      "metadata": {
        "colab": {
          "base_uri": "https://localhost:8080/"
        },
        "id": "extQM5B6Zk87",
        "outputId": "bb24de4d-a1ec-4f7b-ed56-fdda91f3c6dc"
      },
      "execution_count": null,
      "outputs": [
        {
          "output_type": "stream",
          "name": "stdout",
          "text": [
            "Sample tensors a,b:  tensor([1, 2, 3]) tensor([1, 2, 3])\n",
            "Adding 2 tensors:  tensor([2, 4, 6])\n",
            "Adding 2 tensors:  tensor([2, 4, 6])\n",
            "Subtracting 2 tensors:  tensor([0, 0, 0])\n",
            "Subtracting 2 tensors:  tensor([0, 0, 0])\n",
            "Multiply tensors elementwise:  tensor([1, 4, 9])\n",
            "Multiply tensors elementwise:  tensor([1, 4, 9])\n",
            "Matrix multiplication:  tensor(14)\n",
            "Matrix multiplication:  tensor(14)\n",
            " \n",
            "Sample tensor:  tensor([1, 2, 3])\n",
            "Minimum of tensor:  tensor(1)\n",
            "Minimum of tensor elements:  tensor(1)\n",
            "Maximum of tensor:  tensor(3)\n",
            "Maximum of tensor elements:  tensor(3)\n",
            "Sum of tensor elements:  tensor(6)\n",
            "Sum of tensor elements:  tensor(6)\n",
            "Mean of tensor elements:  tensor(2.)\n",
            "Mean of tensor elements:  tensor(2.)\n",
            "\n",
            "Sample tensor:  tensor([1, 2, 3])\n",
            "Index of max value in tensor:  tensor(2)\n",
            "Index of min value in tensor:  tensor(0)\n",
            "\n"
          ]
        }
      ]
    },
    {
      "cell_type": "code",
      "source": [
        "def testStacking():\n",
        "\n",
        "  x = torch.tensor([[1,2],\n",
        "                  [3,4],\n",
        "                  [5,6]])\n",
        "  x_stacked = torch.stack([x+5,x+10,x+15,x+20], dim=0)\n",
        "  print(\"Stacking along dim=0: \\n\", x_stacked)\n",
        "  print()\n",
        "  x_stacked = torch.stack([x+5,x+10,x+15,x+20], dim=1)\n",
        "  print(\"Stacking along dim=1: \\n\", x_stacked)\n",
        "  print()\n",
        "  x_stacked = torch.stack([x,x+5,x+10,x+15], dim=2)\n",
        "  print(\"Stacking along dim=2: \\n\", x_stacked)\n",
        "  print()"
      ],
      "metadata": {
        "id": "yvB6eckagCV_"
      },
      "execution_count": null,
      "outputs": []
    },
    {
      "cell_type": "code",
      "source": [
        "testStacking()"
      ],
      "metadata": {
        "colab": {
          "base_uri": "https://localhost:8080/"
        },
        "id": "62Jg_tZ0i7Ex",
        "outputId": "cf4382b4-67c7-4a68-d5b6-8540b033297d"
      },
      "execution_count": null,
      "outputs": [
        {
          "output_type": "stream",
          "name": "stdout",
          "text": [
            "Stacking along dim=0: \n",
            " tensor([[[ 6,  7],\n",
            "         [ 8,  9],\n",
            "         [10, 11]],\n",
            "\n",
            "        [[11, 12],\n",
            "         [13, 14],\n",
            "         [15, 16]],\n",
            "\n",
            "        [[16, 17],\n",
            "         [18, 19],\n",
            "         [20, 21]],\n",
            "\n",
            "        [[21, 22],\n",
            "         [23, 24],\n",
            "         [25, 26]]])\n",
            "\n",
            "Stacking along dim=1: \n",
            " tensor([[[ 6,  7],\n",
            "         [11, 12],\n",
            "         [16, 17],\n",
            "         [21, 22]],\n",
            "\n",
            "        [[ 8,  9],\n",
            "         [13, 14],\n",
            "         [18, 19],\n",
            "         [23, 24]],\n",
            "\n",
            "        [[10, 11],\n",
            "         [15, 16],\n",
            "         [20, 21],\n",
            "         [25, 26]]])\n",
            "\n",
            "Stacking along dim=2: \n",
            " tensor([[[ 1,  6, 11, 16],\n",
            "         [ 2,  7, 12, 17]],\n",
            "\n",
            "        [[ 3,  8, 13, 18],\n",
            "         [ 4,  9, 14, 19]],\n",
            "\n",
            "        [[ 5, 10, 15, 20],\n",
            "         [ 6, 11, 16, 21]]])\n",
            "\n"
          ]
        }
      ]
    },
    {
      "cell_type": "markdown",
      "source": [
        "### Additional source to understand how torch.stack works similar to numpy.hstack and numpy.vstack - https://stackoverflow.com/questions/69220221/use-of-torch-stack"
      ],
      "metadata": {
        "id": "toPNR34rtKc-"
      }
    }
  ]
}